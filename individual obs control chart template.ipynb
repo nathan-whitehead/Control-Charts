{
 "cells": [
  {
   "attachments": {},
   "cell_type": "markdown",
   "metadata": {},
   "source": [
    "# Control Chart Maker Template (Individual Observations)\n",
    "by Nathan Whitehead\n",
    "\n",
    "original code source: https://towardsdatascience.com/quality-control-charts-guide-for-python-9bb1c859c051"
   ]
  },
  {
   "cell_type": "code",
   "execution_count": null,
   "metadata": {},
   "outputs": [],
   "source": [
    "# Import required libraries\n",
    "import numpy as np\n",
    "import pandas as pd\n",
    "import matplotlib.pyplot as plt\n",
    "import statistics as st\n",
    "\n",
    "# import data\n",
    "x=pd.read_csv('yourdata.csv', index_col=0) #import your data here, remove index_col if it does not contain an index column\n",
    "\n",
    "#import constants\n",
    "constants = pd.read_csv('control chart constants.csv', index_col=0)\n",
    "#perform log base 10 transform on the data\n",
    "x['log10'] = np.log10(x['uniformity'])\n",
    "x['shifted'] = x['log10'].shift(1)\n",
    "x['MR'] = x['log10']-x['shifted']\n",
    "\n",
    "x.to_csv('xcsv.csv')\n",
    "#constants\n",
    "n=2 #n is 2 for moving range\n",
    "D_3 = constants.at[n,'D_3']\n",
    "D_4 = constants.at[n,'D_4']\n",
    "d_2 = constants.at[n,'d_2']\n",
    "\n",
    "\n",
    "#initializing all variables to simplify future code\n",
    "MR_bar = np.nanmean(x['MR']) #must use nanmean because of NaN value in first row of MR.\n",
    "MR_UCL = MR_bar*D_4\n",
    "MR_LCL = MR_bar*D_3\n",
    "x_bar = st.mean(x['log10'])\n",
    "x_UCL = x_bar + 3*(MR_bar/d_2)\n",
    "x_LCL = x_bar - 3*(MR_bar/d_2)\n"
   ]
  },
  {
   "attachments": {},
   "cell_type": "markdown",
   "metadata": {},
   "source": [
    "# Output Centerline and Control Limits"
   ]
  },
  {
   "cell_type": "code",
   "execution_count": null,
   "metadata": {},
   "outputs": [],
   "source": [
    "print(\"-----MR chart-----\")\n",
    "print(\"MR-bar:\",MR_bar)    \n",
    "print(\"UCL:\",MR_UCL)\n",
    "print(\"LCL:\",MR_LCL)\n",
    "\n",
    "print(\"-----x chart-----\")\n",
    "print(\"x-bar:\",x_bar)    \n",
    "print(\"UCL:\",x_UCL)\n",
    "print(\"LCL:\",x_LCL)"
   ]
  },
  {
   "attachments": {},
   "cell_type": "markdown",
   "metadata": {},
   "source": [
    "# Plot Control Chart"
   ]
  },
  {
   "cell_type": "code",
   "execution_count": null,
   "metadata": {},
   "outputs": [],
   "source": [
    "# Plot charts\n",
    "fig, axs = plt.subplots(2, figsize=(10,7))\n",
    "\n",
    "# MR chart\n",
    "axs[0].plot(x['MR'], linestyle='-', marker='o', color='black')\n",
    "axs[0].axhline(MR_UCL, color='red', linestyle='dashed')\n",
    "axs[0].axhline(MR_LCL, color='red', linestyle='dashed')\n",
    "axs[0].axhline(MR_bar, color='blue')\n",
    "axs[0].set_title('MR Chart')\n",
    "axs[0].set(xlabel='Observation', ylabel='Moving Range')\n",
    "\n",
    "#X chart\n",
    "axs[1].plot(x['log10'], linestyle='-', marker='o', color='black')\n",
    "axs[1].axhline(x_UCL, color='red', linestyle='dashed')\n",
    "axs[1].axhline(x_LCL, color='red', linestyle='dashed')\n",
    "axs[1].axhline(x_bar, color='blue')\n",
    "axs[1].set_title('x Chart')\n",
    "axs[1].set(xlabel='Group', ylabel='log(uniformity)')\n",
    "fig.tight_layout()"
   ]
  },
  {
   "attachments": {},
   "cell_type": "markdown",
   "metadata": {},
   "source": [
    "# Check for out of control points"
   ]
  },
  {
   "cell_type": "code",
   "execution_count": null,
   "metadata": {},
   "outputs": [],
   "source": [
    "# Validate points out of control limits for R chart\n",
    "i = 0\n",
    "control = True\n",
    "for group in x['MR']:\n",
    "    if group > MR_UCL or group < MR_LCL:\n",
    "        print('Group', i, 'out of range cotrol limits!')\n",
    "        control = False\n",
    "    i += 1\n",
    "i=0\n",
    "for group in x['log10']:\n",
    "    if group > x_UCL or group < x_LCL:\n",
    "        print('Group', i, 'out of range cotrol limits!')\n",
    "        control = False\n",
    "    i += 1\n",
    "if control == True:\n",
    "    print('p chart: All points within control limits.')"
   ]
  }
 ],
 "metadata": {
  "kernelspec": {
   "display_name": "base",
   "language": "python",
   "name": "python3"
  },
  "language_info": {
   "codemirror_mode": {
    "name": "ipython",
    "version": 3
   },
   "file_extension": ".py",
   "mimetype": "text/x-python",
   "name": "python",
   "nbconvert_exporter": "python",
   "pygments_lexer": "ipython3",
   "version": "3.9.13"
  },
  "orig_nbformat": 4,
  "vscode": {
   "interpreter": {
    "hash": "61bd11a2c4973cbb32592b1ed5f2f06ce7ff0eee11d05d42f5f91af41e7ddfe2"
   }
  }
 },
 "nbformat": 4,
 "nbformat_minor": 2
}
